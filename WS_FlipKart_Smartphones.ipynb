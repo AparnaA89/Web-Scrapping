{
 "cells": [
  {
   "cell_type": "code",
   "execution_count": 18,
   "metadata": {},
   "outputs": [],
   "source": [
    "import bs4\n",
    "import requests\n",
    "import pandas as pd"
   ]
  },
  {
   "cell_type": "code",
   "execution_count": 19,
   "metadata": {},
   "outputs": [],
   "source": [
    "res = requests.get(\"https://www.flipkart.com/search?q=oppo&sid=tyy%2C4io&as=on&as-show=on&otracker=AS_QueryStore_OrganicAutoSuggest_1_4_na_na_na&otracker1=AS_QueryStore_OrganicAutoSuggest_1_4_na_na_na&as-pos=1&as-type=RECENT&suggestionId=oppo%7CMobiles&requestId=2936b613-9938-4f3e-a3b1-9993a84a940c&as-searchtext=oppo\")"
   ]
  },
  {
   "cell_type": "code",
   "execution_count": 20,
   "metadata": {},
   "outputs": [],
   "source": [
    " soup = bs4.BeautifulSoup(res.text,\"lxml\")"
   ]
  },
  {
   "cell_type": "code",
   "execution_count": 23,
   "metadata": {},
   "outputs": [],
   "source": [
    "Product_Name = soup.select(\"._3wU53n\")\n",
    "Price = soup.select(\"._1vC4OE._2rQ-NK\")\n",
    "Rating = soup.select(\".hGSR34\")"
   ]
  },
  {
   "cell_type": "code",
   "execution_count": 24,
   "metadata": {},
   "outputs": [],
   "source": [
    "details = pd.DataFrame(columns = (\"Product_Name\",\"Price\",\"Rating\"))"
   ]
  },
  {
   "cell_type": "code",
   "execution_count": 25,
   "metadata": {},
   "outputs": [],
   "source": [
    "l=0\n",
    "for i,j,k in zip(Product_Name,Price,Rating):\n",
    "    details.loc[l] = i.text,j.text,k.text;\n",
    "    l+=1"
   ]
  },
  {
   "cell_type": "code",
   "execution_count": 26,
   "metadata": {},
   "outputs": [
    {
     "name": "stdout",
     "output_type": "stream",
     "text": [
      "                                Product_Name    Price Rating\n",
      "0          OPPO A52 (Twilight Black, 128 GB)  ₹16,990    4.5\n",
      "1                    OPPO A12 (Black, 32 GB)   ₹9,990    4.4\n",
      "2            OPPO A31 (Fantasy White, 64 GB)  ₹12,490    4.3\n",
      "3           OPPO A31 (Mystery Black, 128 GB)  ₹14,990    4.4\n",
      "4      OPPO F11 Pro (Waterfall Grey, 128 GB)  ₹29,990    4.4\n",
      "5        OPPO F11 Pro (Thunder Black, 64 GB)  ₹16,990    4.4\n",
      "6       OPPO F11 Pro (Thunder Black, 128 GB)  ₹17,990    4.4\n",
      "7         OPPO A5 2020 (Mirror Black, 64 GB)  ₹13,990    4.4\n",
      "8       OPPO A5 2020 (Dazzling White, 64 GB)  ₹13,990    4.4\n",
      "9           OPPO F15 (Unicorn White, 128 GB)  ₹21,990    4.4\n",
      "10             OPPO A7 (Glaring Gold, 64 GB)  ₹10,990    4.4\n",
      "11       OPPO A9 2020 (Marine Green, 128 GB)  ₹15,990    4.4\n",
      "12       OPPO A9 2020 (Space Purple, 128 GB)  ₹15,990    4.4\n",
      "13       OPPO A9 2020 (Vanilla Mint, 128 GB)  ₹15,990    4.4\n",
      "14              OPPO K1 (Piano Black, 64 GB)  ₹14,990    4.5\n",
      "15        OPPO Reno3 Pro (Sky White, 128 GB)  ₹31,990    4.5\n",
      "16     OPPO Reno3 Pro (Auroral Blue, 128 GB)  ₹31,990    4.5\n",
      "17   OPPO Reno3 Pro (Midnight Black, 128 GB)  ₹31,990    4.4\n",
      "18       OPPO F15 (Lightening Black, 128 GB)  ₹21,990    4.4\n",
      "19       OPPO F11 Pro (Aurora Green, 128 GB)  ₹17,990    4.3\n",
      "20       OPPO A9 2020 (Space Purple, 128 GB)  ₹18,490    4.5\n",
      "21         OPPO Reno2 F (Lake Green, 128 GB)  ₹23,490    4.4\n",
      "22            OPPO A9 (Marble Green, 128 GB)  ₹16,490    4.6\n",
      "23  OPPO Reno 10x Zoom (Ocean Green, 256 GB)  ₹41,990    4.3\n"
     ]
    }
   ],
   "source": [
    "print(details)"
   ]
  },
  {
   "cell_type": "code",
   "execution_count": 27,
   "metadata": {},
   "outputs": [],
   "source": [
    "details.to_excel(\"D:\\\\Jupyter Notebook\\\\Assignment 1\\\\smartphones.xlsx\")"
   ]
  },
  {
   "cell_type": "code",
   "execution_count": null,
   "metadata": {},
   "outputs": [],
   "source": []
  }
 ],
 "metadata": {
  "kernelspec": {
   "display_name": "Python 3",
   "language": "python",
   "name": "python3"
  },
  "language_info": {
   "codemirror_mode": {
    "name": "ipython",
    "version": 3
   },
   "file_extension": ".py",
   "mimetype": "text/x-python",
   "name": "python",
   "nbconvert_exporter": "python",
   "pygments_lexer": "ipython3",
   "version": "3.7.4"
  }
 },
 "nbformat": 4,
 "nbformat_minor": 2
}
